{
 "cells": [
  {
   "cell_type": "code",
   "execution_count": 1,
   "metadata": {
    "autoscroll": false,
    "hide_input": true,
    "init_cell": true
   },
   "outputs": [
    {
     "data": {
      "application/javascript": [
       "function clear_other_cells () {\n",
       "document.getElementById('file_menu').parentNode.style.display = 'none';\n",
       "document.getElementById('logout').style.display = 'none';\n",
       "document.getElementById('notebook_name').style.display = 'none';\n",
       "var this_cell = $(element).closest('.cell').data('cell');\n",
       "Jupyter.notebook.get_cells().forEach(function (cell) {\n",
       "if (cell.cell_type === 'code' && cell !== this_cell) {\n",
       "cell.clear_output();\n",
       "}\n",
       "Jupyter.notebook.set_dirty(true);\n",
       "});\n",
       "};\n",
       "$([IPython.events]).on('notebook_loaded.Notebook', clear_other_cells());\n",
       "$(window).on(\"beforeunload\", function(){\n",
       "Jupyter.notebook.kernel.restart();\n",
       "});\n",
       "$([IPython.events]).on('notebook_loaded.Notebook', function() {\n",
       "Jupyter.notebook.set_autosave_interval(0);\n",
       "});\n"
      ],
      "text/plain": [
       "<IPython.core.display.Javascript object>"
      ]
     },
     "metadata": {},
     "output_type": "display_data"
    }
   ],
   "source": [
    "%%javascript\n",
    "function clear_other_cells () {\n",
    "document.getElementById('file_menu').parentNode.style.display = 'none';\n",
    "document.getElementById('logout').style.display = 'none';\n",
    "document.getElementById('notebook_name').style.display = 'none';\n",
    "var this_cell = $(element).closest('.cell').data('cell');\n",
    "Jupyter.notebook.get_cells().forEach(function (cell) {\n",
    "if (cell.cell_type === 'code' && cell !== this_cell) {\n",
    "cell.clear_output();\n",
    "}\n",
    "Jupyter.notebook.set_dirty(true);\n",
    "});\n",
    "};\n",
    "$([IPython.events]).on('notebook_loaded.Notebook', clear_other_cells());\n",
    "$(window).on(\"beforeunload\", function(){\n",
    "Jupyter.notebook.kernel.restart();\n",
    "});\n",
    "$([IPython.events]).on('notebook_loaded.Notebook', function() {\n",
    "Jupyter.notebook.set_autosave_interval(0);\n",
    "});\n"
   ]
  },
  {
   "cell_type": "markdown",
   "metadata": {
    "autoscroll": false
   },
   "source": [
    "<ul style=\"list-style-type:circle;font-size:14px;line-height:27px;\">\n",
    "    <li><b>from streamanalytix.python.dataset import Dataset:</b> Load Dataset class from streamanalytix API.</li>\n",
    "\t<li><b>Dataset(source_name):</b> Creates object of dataset class for given source.\n",
    "\t\t<ul>\n",
    "\t\t\t<li><b>Dataset.get_dataframe():</b> Read data source and return a pandas dataframe. </li>\n",
    "\t\t</ul>\n",
    "\t</li>\n",
    "\t<li><b>from streamanalytix.utilities import sax_utils:</b> Load sax_util script. It has following functions\n",
    "\t\t<ul>\n",
    "\t\t\t<li><b>sax_utils.save_and_download_model(model_name, model_object):</b>This method lets the user to save and download the trained model with StreamAnalytix. This model can than be used for training and/or scoring purpose as part of the StreamAnalytix pipeline</li>\n",
    "\t\t\t\t<ul>\n",
    "\t\t\t\t\t<li><b>model_name:</b> Name of the model. Accepted String value only. e.g. <i>\"DecisionTreeModel\"</i></li>\n",
    "\t\t\t\t\t<li><b>model_object:</b> Object of the trained model</li>\n",
    "\t\t\t\t</ul>\n",
    "\t\t\t<li><b>sax_utils.get_h2o_cluster_url(cluster_name):</b>This method lets the user to get h2o cluster url by providing cluster name</li>\n",
    "\t\t\t\t<ul>\n",
    "\t\t\t\t\t<li><b>cluster_name:</b> Name of the cluster. Accepted String value only. e.g. <i>\"TrainingCluster\"</i></li>\n",
    "\t\t\t\t</ul>\n",
    "\t\t\t<li><b>sax_utils.upload_and_register_h2o_model(model_object, model_name, model_type, project_name, project_version, workspace_name):</b>This method lets the user to upload and register h2o model in 'mojo' format in streamanalytix</li>\n",
    "\t\t\t\t<ul>\n",
    "\t\t\t\t\t<li><b>model_object:</b> Object of trained H2O model</li>\n",
    "\t\t\t\t\t<li><b>model_name:</b>Name of the model. Accepted String value only. e.g. <i>\"H2OTreeModel\"</i>\n",
    "\t\t\t\t\t<li><b>model_type:</b>Type of trained model. Accepted String value only. We support H2O model of types :<i>\"DistributedRandomForest\"</i>,<i>\"GeneralizedLinearModelling\"</i>,<i>\"IsolationForest\"</i>,<i>\"GradientBoostingMachine\"</i></li>\n",
    "\t\t\t\t\t<li><b>project_name:</b>Project Name in which model should register. Accepted String value only. e.g. <i>\"MyProject\"</i></li>\n",
    "\t\t\t\t\t<li><b>project_version:</b>Version of given project in which model should register</li>\n",
    "\t\t\t\t\t<li><b>workspace_name:</b>Workspace Name in which model should register. Accepted String value only. e.g. <i>\"MyWorkspace\"</i></li>\n",
    "\t\t\t\t</ul>\n",
    "\t\t</ul>\n",
    "\t</li>\n",
    "</ul>\n"
   ]
  },
  {
   "cell_type": "code",
   "execution_count": null,
   "metadata": {},
   "outputs": [],
   "source": [
    "import shutup\n",
    "shutup.please()"
   ]
  },
  {
   "cell_type": "code",
   "execution_count": null,
   "metadata": {
    "autoscroll": false
   },
   "outputs": [],
   "source": [
    "from dfml.python.dataset import Dataset\n",
    "from dfml.utilities import dfml_utils\n",
    "\n",
    "\n",
    "dataset_1 = Dataset(\"train.csv\")\n",
    "dataset_2 = Dataset(\"cnc_mill_experiments_worn.csv\")\n",
    "dataset_3 = Dataset(\"cnc_mill_experiments_unworn.csv\")\n",
    "\n",
    "# you can use pandas to create dataframe as shown below\n",
    "# df = dataset_1.get_dataframe()"
   ]
  },
  {
   "cell_type": "code",
   "execution_count": null,
   "metadata": {},
   "outputs": [],
   "source": [
    "!python3 --version"
   ]
  },
  {
   "cell_type": "code",
   "execution_count": null,
   "metadata": {},
   "outputs": [],
   "source": [
    "!pip3 list | grep \"scikit\""
   ]
  },
  {
   "cell_type": "code",
   "execution_count": null,
   "metadata": {},
   "outputs": [],
   "source": [
    "!conda"
   ]
  },
  {
   "cell_type": "code",
   "execution_count": null,
   "metadata": {},
   "outputs": [],
   "source": [
    "# imports\n",
    "import numpy as np\n",
    "import pandas as pd\n",
    "\n",
    "from sklearn.compose import ColumnTransformer\n",
    "from sklearn.ensemble import RandomForestClassifier\n",
    "from sklearn.metrics import accuracy_score\n",
    "from sklearn.model_selection import train_test_split\n",
    "from sklearn.pipeline import Pipeline\n",
    "from sklearn.preprocessing import LabelEncoder, OrdinalEncoder, OneHotEncoder\n",
    "import seaborn as sns\n",
    "import matplotlib.pyplot as plt"
   ]
  },
  {
   "cell_type": "code",
   "execution_count": null,
   "metadata": {
    "scrolled": true
   },
   "outputs": [],
   "source": [
    "import sklearn\n",
    "print(sklearn.__version__)"
   ]
  },
  {
   "cell_type": "code",
   "execution_count": null,
   "metadata": {},
   "outputs": [],
   "source": [
    "# load data\n",
    "master_df = dataset_1.get_dataframe()\n",
    "worn_df = dataset_2.get_dataframe()\n",
    "unworn_df = dataset_3.get_dataframe()"
   ]
  },
  {
   "cell_type": "code",
   "execution_count": null,
   "metadata": {},
   "outputs": [],
   "source": [
    "# concat experiments\n",
    "experiments_df = pd.concat([worn_df, unworn_df], ignore_index=True)\n",
    "experiments_numbers = sorted(experiments_df['exp_num'].unique())\n",
    "print(experiments_numbers)"
   ]
  },
  {
   "cell_type": "code",
   "execution_count": null,
   "metadata": {},
   "outputs": [],
   "source": [
    "master_df.head()"
   ]
  },
  {
   "cell_type": "code",
   "execution_count": null,
   "metadata": {},
   "outputs": [],
   "source": [
    "worn_df.head()"
   ]
  },
  {
   "cell_type": "code",
   "execution_count": null,
   "metadata": {},
   "outputs": [],
   "source": [
    "# preprocessing\n",
    "master_df['passed_visual_inspection'] = master_df['passed_visual_inspection'].fillna('no')"
   ]
  },
  {
   "cell_type": "code",
   "execution_count": null,
   "metadata": {},
   "outputs": [],
   "source": [
    "# join experiments df and master df\n",
    "for current_experiment in experiments_numbers:\n",
    "    experiments_row = master_df[master_df['No'] == current_experiment]\n",
    "    experiments_df.loc[(experiments_df['exp_num'] == current_experiment), 'material'] = experiments_row.iloc[0][\n",
    "        'material']\n",
    "    experiments_df.loc[(experiments_df['exp_num'] == current_experiment), 'feedrate'] = experiments_row.iloc[0][\n",
    "        'feedrate']\n",
    "    experiments_df.loc[(experiments_df['exp_num'] == current_experiment), 'clamp_pressure'] = experiments_row.iloc[0][\n",
    "        'clamp_pressure']\n",
    "    experiments_df.loc[(experiments_df['exp_num'] == current_experiment), 'tool_condition'] = experiments_row.iloc[0][\n",
    "        'tool_condition']\n",
    "    experiments_df.loc[(experiments_df['exp_num'] == current_experiment), 'machining_finalized'] = \\\n",
    "        experiments_row.iloc[0][\n",
    "            'machining_finalized']\n",
    "    experiments_df.loc[(experiments_df['exp_num'] == current_experiment), 'passed_visual_inspection'] = \\\n",
    "        experiments_row.iloc[0]['passed_visual_inspection']\n",
    "\n"
   ]
  },
  {
   "cell_type": "code",
   "execution_count": null,
   "metadata": {},
   "outputs": [],
   "source": [
    "# values replacement\n",
    "experiments_df.replace({'Machining_Process': {'Starting': 'Prep', 'end': 'End'}}, inplace=True)"
   ]
  },
  {
   "cell_type": "code",
   "execution_count": null,
   "metadata": {},
   "outputs": [],
   "source": [
    "fig, ax = plt.subplots(2,2, figsize=(12,10))\n",
    "sns.countplot(experiments_df['tool_condition'], ax=ax[0,0])\n",
    "sns.countplot(experiments_df['machining_finalized'], ax=ax[0,1])\n",
    "sns.countplot(experiments_df['passed_visual_inspection'], ax=ax[1,0])\n",
    "sns.countplot(experiments_df['material'], ax=ax[1,1])\n",
    " \n",
    "# Show the plot\n",
    "plt.show()"
   ]
  },
  {
   "cell_type": "code",
   "execution_count": null,
   "metadata": {},
   "outputs": [],
   "source": [
    "fig, ax = plt.subplots(1,2, figsize=(12,5))\n",
    "#sns.catplot(data=experiments_df, kind=\"bar\",x=\"tool_condition\", y=\"passed_visual_inspection\",ax=ax[0,0])\n",
    "sns.countplot(x=\"tool_condition\", hue=\"passed_visual_inspection\", data=experiments_df, ax=ax[0])\n",
    "sns.countplot(x=\"tool_condition\", hue=\"machining_finalized\", data=experiments_df, ax=ax[1])\n",
    "# Show the plot\n",
    "plt.show()"
   ]
  },
  {
   "cell_type": "code",
   "execution_count": null,
   "metadata": {},
   "outputs": [],
   "source": [
    "plt.figure(figsize=(12,5))\n",
    "sns.countplot(experiments_df['Machining_Process'])\n",
    "plt.title(\"Machining Process Count\")\n",
    "plt.show()"
   ]
  },
  {
   "cell_type": "code",
   "execution_count": null,
   "metadata": {},
   "outputs": [],
   "source": [
    "plt.figure(figsize=(12,10))\n",
    "sns.pairplot(experiments_df, hue='tool_condition', vars=[\"feedrate\",\"clamp_pressure\"])\n",
    "plt.title(\"Tool Condition - feedrate/clamp pressure\", y=1.1, fontsize=20)\n",
    "plt.show()"
   ]
  },
  {
   "cell_type": "code",
   "execution_count": null,
   "metadata": {},
   "outputs": [],
   "source": [
    "plt.figure(figsize=(12,10))\n",
    "sns.pairplot(experiments_df, hue='machining_finalized', vars=[\"feedrate\",\"clamp_pressure\"])\n",
    "plt.title(\"Machining Finalized - feedrate/clamp pressure\", y=1.1, fontsize=20)\n",
    "plt.show()"
   ]
  },
  {
   "cell_type": "code",
   "execution_count": null,
   "metadata": {},
   "outputs": [],
   "source": [
    "# Feature Creation\n",
    "for ax in ['X', 'Y', 'Z', 'S']:\n",
    "    experiments_df[ax + '1_Position_Diff'] = abs(\n",
    "        experiments_df[ax + '1_CommandPosition'] - experiments_df[ax + '1_ActualPosition'])\n",
    "    experiments_df[ax + '1_Velocity_Diff'] = abs(\n",
    "        experiments_df[ax + '1_CommandVelocity'] - experiments_df[ax + '1_ActualVelocity'])\n",
    "    experiments_df[ax + '1_Acceleration_Diff'] = abs(\n",
    "        experiments_df[ax + '1_CommandAcceleration'] - experiments_df[ax + '1_ActualAcceleration'])"
   ]
  },
  {
   "cell_type": "code",
   "execution_count": null,
   "metadata": {},
   "outputs": [],
   "source": [
    "feature_df = experiments_df.copy()\n",
    "#feature_df['tool_condition'] = LabelEncoder().fit_transform(feature_df['tool_condition']).astype(np.int8)\n",
    "\n",
    "categorical_features = ['Machining_Process']\n",
    "categorical_transformer = Pipeline(steps=[('ordinalEncoder', OrdinalEncoder()), ('onehotEncoder', OneHotEncoder(handle_unknown='ignore'))])\n",
    "preprocessor = ColumnTransformer(transformers=[('cat', categorical_transformer, categorical_features)],\n",
    "                                     remainder='passthrough')\n",
    "\n",
    "clf_pipeline = Pipeline(steps=[('preprocessor', preprocessor), ('classifier', RandomForestClassifier())])\n",
    "\n",
    "y_series = feature_df['tool_condition']\n",
    "x_df = feature_df.drop(['tool_condition', 'machining_finalized', 'passed_visual_inspection', 'material', 'exp_num'],\n",
    "                           axis=1)\n",
    "X_train, X_valid, Y_train, Y_valid = train_test_split(x_df, y_series, test_size=0.2, random_state=0,\n",
    "                                                          stratify=y_series)\n",
    "print('features')\n",
    "print(X_train.columns)\n",
    "clf_pipeline.fit(X_train, Y_train)\n",
    "y_predict = clf_pipeline.predict(X_valid)\n",
    "score = accuracy_score(Y_valid, y_predict)\n",
    "print(score)"
   ]
  },
  {
   "cell_type": "code",
   "execution_count": null,
   "metadata": {},
   "outputs": [],
   "source": [
    "dfml_utils.save_and_download_model('CNCMillToolWearRF1_13Sep_131.pkl', clf_pipeline)"
   ]
  }
 ],
 "metadata": {
  "autoplay": {
   "autoRun": true
  },
  "kernelspec": {
   "display_name": "Python 3",
   "language": "python",
   "name": "python3"
  },
  "language_info": {
   "codemirror_mode": {
    "name": "ipython",
    "version": 3
   },
   "file_extension": ".py",
   "mimetype": "text/x-python",
   "name": "python",
   "nbconvert_exporter": "python",
   "pygments_lexer": "ipython3",
   "version": "3.8.0"
  }
 },
 "nbformat": 4,
 "nbformat_minor": 2
}
